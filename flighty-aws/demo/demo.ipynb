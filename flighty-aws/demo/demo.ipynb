{
 "cells": [
  {
   "cell_type": "code",
   "execution_count": 1,
   "metadata": {},
   "outputs": [
    {
     "data": {
      "text/plain": [
       "['xgboost', 'gpu_featurizer', 'rules']"
      ]
     },
     "execution_count": 1,
     "metadata": {},
     "output_type": "execute_result"
    }
   ],
   "source": [
    "import os\n",
    "\n",
    "os.listdir('./models')"
   ]
  },
  {
   "cell_type": "code",
   "execution_count": 2,
   "metadata": {},
   "outputs": [],
   "source": []
  },
  {
   "cell_type": "code",
   "execution_count": 1,
   "metadata": {},
   "outputs": [
    {
     "name": "stdout",
     "output_type": "stream",
     "text": [
      "Writing handler-demo/handler.py\n"
     ]
    }
   ],
   "source": [
    "%%writefile handler-demo/handler.py\n",
    "\n",
    "import os\n",
    "import xgboost as xgb\n",
    "import random\n",
    "\n",
    "class Handler():\n",
    "  def __init__(self):\n",
    "    from flighty import Flighty\n",
    "    self.model = xgb.Booster()\n",
    "    self.model.load(Flighty.get_artifact_path('xgboost'))\n",
    "  \n",
    "  def predict(self, data):\n",
    "    self.model.predict(data)\n"
   ]
  },
  {
   "cell_type": "code",
   "execution_count": 6,
   "metadata": {},
   "outputs": [
    {
     "name": "stdout",
     "output_type": "stream",
     "text": [
      "Working.\n",
      "Working...\n",
      "Successfully created artifact with version 0 and name xgboost from path /Users/gkv/Startup/flighty/flighty-aws/demo/models/xgboost\n",
      "Got path /Users/gkv/Startup/flighty/flighty-aws/demo/models/xgboost for artifact xgboost\n",
      "Found handler at ./handler2.\n",
      "Using specified Docker image at 701906161514.dkr.ecr.us-west-1.amazonaws.com/flighty-repository:1.........................\n",
      "Deploying handler xgboost behind endpoint doc_rec..............\n",
      "Updating endpoint to serve 100% of traffic with handler xgboost.....\n"
     ]
    },
    {
     "data": {
      "text/plain": [
       "'Successfully deployed handler xgboost. To invoke this handler directly, call https://flighty.ai/great_clinic/doc_rec/xgboost'"
      ]
     },
     "execution_count": 6,
     "metadata": {},
     "output_type": "execute_result"
    }
   ],
   "source": [
    "from flighty import Flighty\n",
    "\n",
    "Flighty.initialize(name='great_clinic')\n",
    "Flighty.create_endpoint(name='doc_rec')\n",
    "Flighty.upload_artifact(name='xgboost', folder_path='./models/xgboost')\n",
    "Flighty.create_handler(endpoint='doc_rec', name='xgboost', \n",
    "  folder_path='./handler-demo', artifacts=['xgboost'])"
   ]
  },
  {
   "cell_type": "code",
   "execution_count": null,
   "metadata": {},
   "outputs": [],
   "source": []
  }
 ],
 "metadata": {
  "kernelspec": {
   "display_name": "Python 3.9.13 64-bit",
   "language": "python",
   "name": "python3"
  },
  "language_info": {
   "codemirror_mode": {
    "name": "ipython",
    "version": 3
   },
   "file_extension": ".py",
   "mimetype": "text/x-python",
   "name": "python",
   "nbconvert_exporter": "python",
   "pygments_lexer": "ipython3",
   "version": "3.9.13"
  },
  "orig_nbformat": 4,
  "vscode": {
   "interpreter": {
    "hash": "aee8b7b246df8f9039afb4144a1f6fd8d2ca17a180786b69acc140d282b71a49"
   }
  }
 },
 "nbformat": 4,
 "nbformat_minor": 2
}
